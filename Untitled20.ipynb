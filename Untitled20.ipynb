{
  "nbformat": 4,
  "nbformat_minor": 0,
  "metadata": {
    "colab": {
      "provenance": [],
      "authorship_tag": "ABX9TyOMAET7nqYSTM+Mgmbz62ec",
      "include_colab_link": true
    },
    "kernelspec": {
      "name": "python3",
      "display_name": "Python 3"
    },
    "language_info": {
      "name": "python"
    }
  },
  "cells": [
    {
      "cell_type": "markdown",
      "metadata": {
        "id": "view-in-github",
        "colab_type": "text"
      },
      "source": [
        "<a href=\"https://colab.research.google.com/github/juango15/Classroom-notes/blob/main/Untitled20.ipynb\" target=\"_parent\"><img src=\"https://colab.research.google.com/assets/colab-badge.svg\" alt=\"Open In Colab\"/></a>"
      ]
    },
    {
      "cell_type": "code",
      "execution_count": 15,
      "metadata": {
        "colab": {
          "base_uri": "https://localhost:8080/"
        },
        "id": "zBMkt9vH0S-3",
        "outputId": "f93d5a75-e75e-4749-9159-a51885c4c86a"
      },
      "outputs": [
        {
          "output_type": "stream",
          "name": "stdout",
          "text": [
            "1\n",
            "1\n"
          ]
        }
      ],
      "source": [
        "class Employee:\n",
        "  new_id = 1\n",
        "  def __init__(self, id):\n",
        "    self.id = self.new_id\n",
        "    self.new_id += 1\n",
        "  def say_id(self):\n",
        "    print(self.id)\n",
        "e1 = Employee(1)\n",
        "e2 = Employee(2)\n",
        "e1.say_id()\n",
        "e2.say_id()"
      ]
    }
  ]
}