{
  "cells": [
    {
      "cell_type": "markdown",
      "metadata": {
        "id": "view-in-github",
        "colab_type": "text"
      },
      "source": [
        "<a href=\"https://colab.research.google.com/github/juango15/Classroom-notes/blob/main/apuntes.ipynb\" target=\"_parent\"><img src=\"https://colab.research.google.com/assets/colab-badge.svg\" alt=\"Open In Colab\"/></a>"
      ]
    },
    {
      "cell_type": "markdown",
      "metadata": {
        "id": "kBiJ8TJ27upH"
      },
      "source": [
        "# Markdown\n",
        "\n",
        "Markdow en pocas palablar son casillas de texto"
      ]
    },
    {
      "cell_type": "markdown",
      "metadata": {
        "id": "Zsfq6dPdASuF"
      },
      "source": [
        "## Titulos\n",
        "\n",
        "dependiendo de cuantos numerale pongas (#) tendras un tamaño de titulo diferente, entre mas pongas mas pequeño seran y se les llama por h#, iendo de h1 a h6\n",
        "\n",
        "h1:\n",
        "# A\n",
        "h2\n",
        "## A\n",
        "h3\n",
        "### A\n",
        "h4\n",
        "#### A\n",
        "h5\n",
        "##### A\n",
        "h6\n",
        "###### A"
      ]
    },
    {
      "cell_type": "markdown",
      "metadata": {
        "id": "3nzQAyUfHiPG"
      },
      "source": []
    },
    {
      "cell_type": "markdown",
      "metadata": {
        "id": "qlPK-d6s7nKM"
      },
      "source": [
        "#Python"
      ]
    },
    {
      "cell_type": "markdown",
      "metadata": {
        "id": "azjza1QxG0OF"
      },
      "source": [
        "## expresiones booleanas\n",
        "\n",
        "son afirmaciones que se puede hacer con la computadra que no serian una opinion sino un dato presiso (hasta donde pueda llegar la computadora)\n",
        "\n",
        "<br>\n",
        "se comparan dos entradas numericas y mediante unos caracteres llamados operadores logicos se define si la congetura es falsa o verdadera\n",
        "\n"
      ]
    },
    {
      "cell_type": "markdown",
      "metadata": {
        "id": "IG9v9LJ9vqXJ"
      },
      "source": [
        "los mas simples de todos son mayor que (>) y menor que (<) que definen por medio de la comparacion el orden respectivo de dos numeros\n",
        "\n",
        "2 es _mayor que_ 56 = 2>56\n",
        "\n",
        "36 es _menor que_ 101 = 36<101\n",
        "\n",
        "\n",
        "ya depende de la computadora determinar si eso es falso o verdadero"
      ]
    },
    {
      "cell_type": "code",
      "execution_count": null,
      "metadata": {
        "colab": {
          "base_uri": "https://localhost:8080/"
        },
        "id": "eAgRBw88yRIH",
        "outputId": "b5715402-7a27-4f0a-a08c-4a4c1508c578"
      },
      "outputs": [
        {
          "name": "stdout",
          "output_type": "stream",
          "text": [
            "a es False\n",
            "b es True\n"
          ]
        }
      ],
      "source": [
        "a = 10>33\n",
        "b = 56<100\n",
        "\n",
        "print (\"a es\", a)\n",
        "\n",
        "print (\"b es\", b)"
      ]
    },
    {
      "cell_type": "markdown",
      "metadata": {
        "id": "c9m9Bke-yR1v"
      },
      "source": [
        "aparte de esos dos tambien hay otros operadores logicos que cumplen otras funciones\n",
        "\n",
        "`(==)`\n",
        "\n",
        "el igual igua compara dos numeros y te dice si son iguales, coloca doble para aclarar que los valores se estan comparando y no igualando\n",
        "\n",
        "`(!=)`\n",
        "\n",
        "desigual, este se utiliza para que al momento de comparar te diga si los valores son desiguales o no\n",
        "\n",
        "`(<=)`\n",
        "\n",
        "menor o igual que compara dos valores y determina si el de la izquierda es menor o igual al de la derecha\n",
        "\n",
        "`(>=)`\n",
        "\n",
        "mayor o igual que compara dos valores y determina si el de la izquierda es mayor o igual al de la derecha\n"
      ]
    },
    {
      "cell_type": "code",
      "execution_count": null,
      "metadata": {
        "colab": {
          "base_uri": "https://localhost:8080/"
        },
        "id": "F10Yb0DPG4dI",
        "outputId": "52923fd4-bb5f-4d47-e878-f7a99ce379a2"
      },
      "outputs": [
        {
          "name": "stdout",
          "output_type": "stream",
          "text": [
            "False\n",
            "True\n",
            "True\n",
            "False\n"
          ]
        }
      ],
      "source": [
        "a = 3\n",
        "b = 6\n",
        "\n",
        "print (a==b)\n",
        "print (a!=b)\n",
        "print (a<=b)\n",
        "print (a>=b)"
      ]
    },
    {
      "cell_type": "markdown",
      "metadata": {
        "id": "4dgTlePW1Dqp"
      },
      "source": [
        "tambien hay unos que dependen de otro para ser falsos o verdaderos\n",
        "\n",
        "\n",
        "`AND`\n",
        "\n",
        "Empleado para asociar dos términos o frases, validando que ambos valores booleanos sean verdaderos.\n",
        "<br>\n",
        "\n",
        "`OR`\n",
        "\n",
        "Asocia dos términos o frases, validando que al menos uno de los dos valores sea verdadero.\n",
        "<br>\n",
        "\n",
        "`NOT`\n",
        "\n",
        "Ejecuta bloques de código cuando una condición es falsa."
      ]
    },
    {
      "cell_type": "code",
      "execution_count": null,
      "metadata": {
        "colab": {
          "base_uri": "https://localhost:8080/"
        },
        "id": "Op1WbpZwLJO6",
        "outputId": "70e6d2ee-55c6-450e-e027-264533a29979"
      },
      "outputs": [
        {
          "name": "stdout",
          "output_type": "stream",
          "text": [
            "AND:\n",
            "False\n",
            "True\n",
            "False\n",
            " \n",
            "OR:\n",
            "True\n",
            "True\n",
            "False\n",
            " \n",
            "not\n"
          ]
        },
        {
          "data": {
            "text/plain": [
              "True"
            ]
          },
          "execution_count": 11,
          "metadata": {},
          "output_type": "execute_result"
        }
      ],
      "source": [
        "a = True\n",
        "b = False\n",
        "\n",
        "print (\"AND:\")\n",
        "print (a and b)\n",
        "print (a and a)\n",
        "print (b and b)\n",
        "\n",
        "print (\" \")\n",
        "\n",
        "print (\"OR:\")\n",
        "print (a or b)\n",
        "print (a or a)\n",
        "print (b or b)\n",
        "\n",
        "print (\" \")\n",
        "\n",
        "print (\"not\")\n",
        "\n",
        "not a\n",
        "not b"
      ]
    },
    {
      "cell_type": "markdown",
      "metadata": {
        "id": "HDjX7V9mPTNP"
      },
      "source": [
        "## inputs\n",
        "\n",
        "son estradas de usuario por consola"
      ]
    },
    {
      "cell_type": "code",
      "execution_count": null,
      "metadata": {
        "colab": {
          "base_uri": "https://localhost:8080/"
        },
        "id": "mePgERm1PoMW",
        "outputId": "2ce686b3-14dc-4d8a-eb42-ad142c8830c9"
      },
      "outputs": [
        {
          "name": "stdout",
          "output_type": "stream",
          "text": [
            "nombre:juan pablo\n",
            "apellido:gonzalez\n",
            "Hola juan pablo gonzalez bienvenido\n"
          ]
        }
      ],
      "source": [
        "firstname = input (\"nombre:\")\n",
        "lastname = input (\"apellido:\")\n",
        "fullname = firstname + \" \" + lastname\n",
        "\n",
        "print (\"Hola\", fullname, \"bienvenido\")"
      ]
    },
    {
      "cell_type": "markdown",
      "metadata": {
        "id": "FALdReyt1vkl"
      },
      "source": [
        "### inputs numericos\n",
        "Aunque los inputs solo son salidas de texto y aunque pongas un numero no tendra un valor numerico"
      ]
    },
    {
      "cell_type": "code",
      "execution_count": null,
      "metadata": {
        "colab": {
          "base_uri": "https://localhost:8080/"
        },
        "id": "o_B-hw2B9XNP",
        "outputId": "8cde305f-3e9e-49e7-f987-b6078c09e37c"
      },
      "outputs": [
        {
          "name": "stdout",
          "output_type": "stream",
          "text": [
            "ingrese el primer numero3\n",
            "ingrese el segundo numero5\n",
            "la suma es: 35\n"
          ]
        }
      ],
      "source": [
        "num_1 = input (\"ingrese el primer numero:\")\n",
        "num_2 = input (\"ingrese el segundo numero:\")\n",
        "resultado = num_1 + num_2\n",
        "\n",
        "print (\"la suma es:\", resultado)"
      ]
    },
    {
      "cell_type": "markdown",
      "metadata": {
        "id": "bRWOsLrR-03V"
      },
      "source": [
        "para solucionar esto se escribe el input dentro de un valor entero\n",
        "\n",
        "osea\n",
        "\n",
        "```\n",
        "int (input (\"ingrese un numero\"))\n",
        "```\n",
        "o float si la variable no es entera\n",
        "\n",
        "```\n",
        "float (input (\"ingrese un numero\"))\n",
        "```\n"
      ]
    },
    {
      "cell_type": "code",
      "execution_count": null,
      "metadata": {
        "colab": {
          "base_uri": "https://localhost:8080/"
        },
        "id": "_PVRjOQo_aER",
        "outputId": "bee63c28-7a7a-4630-9cf7-5f8b7013e725"
      },
      "outputs": [
        {
          "name": "stdout",
          "output_type": "stream",
          "text": [
            "ingrese el primer numero3\n",
            "ingrese el segundo numero5\n",
            "la suma es: 8\n"
          ]
        }
      ],
      "source": [
        "num_1 = int (input (\"ingrese el primer numero:\"))\n",
        "num_2 = int (input (\"ingrese el segundo numero:\"))\n",
        "resultado = num_1 + num_2\n",
        "\n",
        "print (\"la suma es:\", resultado)"
      ]
    },
    {
      "cell_type": "markdown",
      "metadata": {
        "id": "8yPWJG45xMZj"
      },
      "source": [
        "##Condicionales\n",
        "\n",
        "son lineas de codigo que se  solo si se cumple una condici"
      ]
    },
    {
      "cell_type": "markdown",
      "metadata": {
        "id": "SAOubWbc0OrM"
      },
      "source": [
        "### If\n",
        "\n",
        "es el condicional mas simple, consta de una condicion que de cumplirse da paso a una instruccion"
      ]
    },
    {
      "cell_type": "code",
      "source": [
        "x = 44\n",
        "\n",
        "if x >= 100:\n",
        "  print (\"x es igual o mayor a cien\")\n",
        "else:\n",
        "  print (\"x es menor que 100\")\n",
        "\n"
      ],
      "metadata": {
        "colab": {
          "base_uri": "https://localhost:8080/"
        },
        "id": "n5dAFPo5aTvq",
        "outputId": "e06c5434-7a4c-4cc4-9c30-1d275de68c38"
      },
      "execution_count": 2,
      "outputs": [
        {
          "output_type": "stream",
          "name": "stdout",
          "text": [
            "x es menor que 100\n"
          ]
        }
      ]
    },
    {
      "cell_type": "markdown",
      "metadata": {
        "id": "3a17jH-iz3ks"
      },
      "source": [
        "### While\n",
        "es una condicional donde se ejecuta solamente si se cumple una condicion especifica\n",
        "\n",
        "se recomienda no poner condicionales extrictos\n",
        "\n",
        "ejemplo: x cosa se hace si x valor es igual a cinco\n",
        "\n"
      ]
    },
    {
      "cell_type": "code",
      "source": [
        "x = int (input(\"ingrese un numero:\"))\n",
        "\n",
        "while x <= 5:\n",
        "  print (\"ingrese un valor mayor a 4\")\n",
        "  x = int (input (\"introduzca otro numero:\"))\n",
        "\n",
        "print (\"bien hecho\")"
      ],
      "metadata": {
        "colab": {
          "base_uri": "https://localhost:8080/"
        },
        "id": "5SNm1oajcUhI",
        "outputId": "8b931a9b-a86a-4e7b-b84c-31fc20f505f5"
      },
      "execution_count": 10,
      "outputs": [
        {
          "output_type": "stream",
          "name": "stdout",
          "text": [
            "ingrese un numero:3\n",
            "ingrese un valor mayor a 4\n",
            "introduzca otro numero:1\n",
            "ingrese un valor mayor a 4\n",
            "introduzca otro numero:7\n",
            "bien hecho\n"
          ]
        }
      ]
    },
    {
      "cell_type": "markdown",
      "source": [
        "### case\n",
        "\n",
        "el case asigna una caso con sus respectivos pasos para cada respuesta en un input, casi no se usa pero es una alternativa al if en algunos casos"
      ],
      "metadata": {
        "id": "ZqO2m_fjYGLq"
      }
    },
    {
      "cell_type": "code",
      "source": [
        "x = int (input(\"califique del 1 al 5 a nuestro servicio:\"))\n",
        "\n",
        "if x <= 5:\n",
        "    match x:\n",
        "        case 1:\n",
        "            print(\"intentaremos mejorar para su regreso\")\n",
        "        case 2:\n",
        "            print(\"dejenos sus sugerencias y las tendremos en cuenta\")\n",
        "        case 3:\n",
        "            print(\"vuelva pronto, lo esperamos con emocion\")\n",
        "        case 4:\n",
        "            print(\"nos enorgullese escuchar eso de usted\")\n",
        "        case 5:\n",
        "            print(\"esperamos verlo lo antes posible, peliz viaje\")\n",
        "else:\n",
        "    print (\"nos alegra que le haya gustado tanto nuestro servicio\")\n",
        "\n"
      ],
      "metadata": {
        "colab": {
          "base_uri": "https://localhost:8080/"
        },
        "id": "ztAYLiHVhqrc",
        "outputId": "08d68bc4-5546-40c6-c2e3-7de34da2cc2a"
      },
      "execution_count": 20,
      "outputs": [
        {
          "output_type": "stream",
          "name": "stdout",
          "text": [
            "califique del 1 al 5 a nuestro servicio:5\n",
            "esperamos verlo llo antes posible, peliz viaje\n"
          ]
        }
      ]
    },
    {
      "cell_type": "markdown",
      "metadata": {
        "id": "84O3Oh5g3lb8"
      },
      "source": [
        "## ciclos\n",
        "\n",
        "son instrucciones que se repiten cierto numero de veces"
      ]
    },
    {
      "cell_type": "markdown",
      "metadata": {
        "id": "_CfuuMQt3yeP"
      },
      "source": [
        "### while (como ciclo)\n",
        "\n",
        "apesar de ser un condicional, el while se puede usar para hacer un ciclo, poniendole una condicion que se actualiza constantemente"
      ]
    },
    {
      "cell_type": "code",
      "source": [
        "x = int (input(\"escriva un numero:\"))\n",
        "\n",
        "x_falt = 0\n",
        "new_x = x\n",
        "\n",
        "while new_x < 10:\n",
        "  new_x += 1\n",
        "  x_falt += 1\n",
        "\n",
        "print (\"a\", x, \"le faltan\", x_falt, \"para llegar a 10\")\n"
      ],
      "metadata": {
        "colab": {
          "base_uri": "https://localhost:8080/"
        },
        "id": "5MOj5SG2X4dw",
        "outputId": "e1c694e5-167a-4f04-82c2-6cbfc2b90b4b"
      },
      "execution_count": 27,
      "outputs": [
        {
          "output_type": "stream",
          "name": "stdout",
          "text": [
            "escriva un numero:6\n",
            "a 6 le faltan 4 para llegar a 10\n"
          ]
        }
      ]
    },
    {
      "cell_type": "markdown",
      "metadata": {
        "id": "l8SMJ7JX0Tpn"
      },
      "source": [
        "### for\n",
        "\n",
        "es una estructura repetitiva definida, en pocas palabras, repites un numero de veces concreto la accion\n",
        "\n",
        "para saber si lo tiene que usar preguntate ¿sabes cuantas veces tienes que repetir la accion?\n",
        "\n",
        "si es asi establese desde donde inicias y hasta donde terminas\n",
        "si no es asi utilisa while"
      ]
    },
    {
      "cell_type": "code",
      "source": [
        "print (\"ingrese sus notas \")\n",
        "\n",
        "sum_not = 0\n",
        "num_not = 0\n",
        "\n",
        "x = float (input (\"ingrese la primera nota:\"))\n",
        "\n",
        "for i in range (4):\n",
        "  sum_not += x\n",
        "  num_not += 1\n",
        "  x = float (input (\"ingrese la siguiente nota:\"))\n",
        "\n",
        "\n",
        "prom = sum_not/num_not\n",
        "\n",
        "print (\"su promedio es de\", prom)"
      ],
      "metadata": {
        "colab": {
          "base_uri": "https://localhost:8080/"
        },
        "id": "anWmcWEDX6D2",
        "outputId": "484e646f-0be7-494d-ac07-65acb3e5be9d"
      },
      "execution_count": 33,
      "outputs": [
        {
          "output_type": "stream",
          "name": "stdout",
          "text": [
            "ingrese sus notas \n",
            "ingrese la primera nota:3\n",
            "ingrese la siguiente nota:4.5\n",
            "ingrese la siguiente nota:3.3\n",
            "ingrese la siguiente nota:5\n",
            "ingrese la siguiente nota:4\n",
            "su promedio es de 3.95\n"
          ]
        }
      ]
    },
    {
      "cell_type": "markdown",
      "metadata": {
        "id": "eEiviJG_1uY9"
      },
      "source": [
        "### repeat"
      ]
    },
    {
      "cell_type": "markdown",
      "metadata": {
        "id": "_prRCd1Nz1zm"
      },
      "source": [
        "## ejercisio"
      ]
    },
    {
      "cell_type": "markdown",
      "metadata": {
        "id": "BwhzBt-j7Eyt"
      },
      "source": [
        "### Ejercisio 1\n",
        "\n",
        "hacer una calculadora donde tu ingresas un numero indefinido de numeros y al final aparesca la suma de todos ellos\n",
        "\n",
        "```\n",
        "program calculadora_de_sumas\n",
        "start\n",
        "  declare\n",
        "\n",
        "stop\n",
        "\n",
        "```"
      ]
    },
    {
      "cell_type": "code",
      "execution_count": null,
      "metadata": {
        "id": "DzYMuaq43i04"
      },
      "outputs": [],
      "source": []
    },
    {
      "cell_type": "markdown",
      "metadata": {
        "id": "h8ebZhUF7rZI"
      },
      "source": [
        "hacer un algoritmo donde se halle el promedio ponderado de una serie de notas\n",
        "\n",
        "seudo codigo\n",
        "\n",
        "```\n",
        "program promedio_ponderado\n",
        "strat\n",
        "  Declare\n",
        "  Declare real N, nota, peso, promedio, sum_nota, sum_peso\n",
        "  Display \"ingrese el numero de notas\"\n",
        "  input N\n",
        "  for i = 0 to N\n",
        "    Display\n",
        "  end for\n",
        "\n",
        "stop\n",
        "\n",
        "```"
      ]
    },
    {
      "cell_type": "code",
      "execution_count": null,
      "metadata": {
        "id": "7-Vo1kBq78ep"
      },
      "outputs": [],
      "source": []
    }
  ],
  "metadata": {
    "colab": {
      "collapsed_sections": [
        "kBiJ8TJ27upH",
        "azjza1QxG0OF",
        "HDjX7V9mPTNP",
        "_prRCd1Nz1zm"
      ],
      "provenance": [],
      "toc_visible": true,
      "include_colab_link": true
    },
    "kernelspec": {
      "display_name": "Python 3",
      "name": "python3"
    }
  },
  "nbformat": 4,
  "nbformat_minor": 0
}