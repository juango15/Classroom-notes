{
  "cells": [
    {
      "cell_type": "markdown",
      "metadata": {
        "id": "view-in-github",
        "colab_type": "text"
      },
      "source": [
        "<a href=\"https://colab.research.google.com/github/juango15/Classroom-notes/blob/main/apuntes.ipynb\" target=\"_parent\"><img src=\"https://colab.research.google.com/assets/colab-badge.svg\" alt=\"Open In Colab\"/></a>"
      ]
    },
    {
      "cell_type": "markdown",
      "metadata": {
        "id": "kBiJ8TJ27upH"
      },
      "source": [
        "# Markdown\n",
        "\n",
        "Markdow en pocas palablar son casillas de texto"
      ]
    },
    {
      "cell_type": "markdown",
      "metadata": {
        "id": "Zsfq6dPdASuF"
      },
      "source": [
        "## Titulos\n",
        "\n",
        "dependiendo de cuantos numerale pongas (#) tendras un tamaño de titulo diferente, entre mas pongas mas pequeño seran y se les llama por h#, iendo de h1 a h6\n",
        "\n",
        "h1:\n",
        "# A\n",
        "h2\n",
        "## A\n",
        "h3\n",
        "### A\n",
        "h4\n",
        "#### A\n",
        "h5\n",
        "##### A\n",
        "h6\n",
        "###### A"
      ]
    },
    {
      "cell_type": "markdown",
      "metadata": {
        "id": "3nzQAyUfHiPG"
      },
      "source": []
    },
    {
      "cell_type": "markdown",
      "metadata": {
        "id": "qlPK-d6s7nKM"
      },
      "source": [
        "#Python"
      ]
    },
    {
      "cell_type": "markdown",
      "metadata": {
        "id": "azjza1QxG0OF"
      },
      "source": [
        "## expresiones booleanas\n",
        "\n",
        "son afirmaciones que se puede hacer con la computadra que no serian una opinion sino un dato presiso (hasta donde pueda llegar la computadora)\n",
        "\n",
        "<br>\n",
        "se comparan dos entradas numericas y mediante unos caracteres llamados operadores logicos se define si la congetura es falsa o verdadera\n",
        "\n"
      ]
    },
    {
      "cell_type": "markdown",
      "metadata": {
        "id": "IG9v9LJ9vqXJ"
      },
      "source": [
        "los mas simples de todos son mayor que (>) y menor que (<) que definen por medio de la comparacion el orden respectivo de dos numeros\n",
        "\n",
        "2 es _mayor que_ 56 = 2>56\n",
        "\n",
        "36 es _menor que_ 101 = 36<101\n",
        "\n",
        "\n",
        "ya depende de la computadora determinar si eso es falso o verdadero"
      ]
    },
    {
      "cell_type": "code",
      "execution_count": null,
      "metadata": {
        "colab": {
          "base_uri": "https://localhost:8080/"
        },
        "id": "eAgRBw88yRIH",
        "outputId": "b5715402-7a27-4f0a-a08c-4a4c1508c578"
      },
      "outputs": [
        {
          "name": "stdout",
          "output_type": "stream",
          "text": [
            "a es False\n",
            "b es True\n"
          ]
        }
      ],
      "source": [
        "a = 10>33\n",
        "b = 56<100\n",
        "\n",
        "print (\"a es\", a)\n",
        "\n",
        "print (\"b es\", b)"
      ]
    },
    {
      "cell_type": "markdown",
      "metadata": {
        "id": "c9m9Bke-yR1v"
      },
      "source": [
        "aparte de esos dos tambien hay otros operadores logicos que cumplen otras funciones\n",
        "\n",
        "`(==)`\n",
        "\n",
        "el igual igua compara dos numeros y te dice si son iguales, coloca doble para aclarar que los valores se estan comparando y no igualando\n",
        "\n",
        "`(!=)`\n",
        "\n",
        "desigual, este se utiliza para que al momento de comparar te diga si los valores son desiguales o no\n",
        "\n",
        "`(<=)`\n",
        "\n",
        "menor o igual que compara dos valores y determina si el de la izquierda es menor o igual al de la derecha\n",
        "\n",
        "`(>=)`\n",
        "\n",
        "mayor o igual que compara dos valores y determina si el de la izquierda es mayor o igual al de la derecha\n"
      ]
    },
    {
      "cell_type": "code",
      "execution_count": null,
      "metadata": {
        "colab": {
          "base_uri": "https://localhost:8080/"
        },
        "id": "F10Yb0DPG4dI",
        "outputId": "52923fd4-bb5f-4d47-e878-f7a99ce379a2"
      },
      "outputs": [
        {
          "name": "stdout",
          "output_type": "stream",
          "text": [
            "False\n",
            "True\n",
            "True\n",
            "False\n"
          ]
        }
      ],
      "source": [
        "a = 3\n",
        "b = 6\n",
        "\n",
        "print (a==b)\n",
        "print (a!=b)\n",
        "print (a<=b)\n",
        "print (a>=b)"
      ]
    },
    {
      "cell_type": "markdown",
      "metadata": {
        "id": "4dgTlePW1Dqp"
      },
      "source": [
        "tambien hay unos que dependen de otro para ser falsos o verdaderos\n",
        "\n",
        "\n",
        "`AND`\n",
        "\n",
        "Empleado para asociar dos términos o frases, validando que ambos valores booleanos sean verdaderos.\n",
        "<br>\n",
        "\n",
        "`OR`\n",
        "\n",
        "Asocia dos términos o frases, validando que al menos uno de los dos valores sea verdadero.\n",
        "<br>\n",
        "\n",
        "`NOT`\n",
        "\n",
        "Ejecuta bloques de código cuando una condición es falsa."
      ]
    },
    {
      "cell_type": "code",
      "execution_count": null,
      "metadata": {
        "colab": {
          "base_uri": "https://localhost:8080/"
        },
        "id": "Op1WbpZwLJO6",
        "outputId": "70e6d2ee-55c6-450e-e027-264533a29979"
      },
      "outputs": [
        {
          "name": "stdout",
          "output_type": "stream",
          "text": [
            "AND:\n",
            "False\n",
            "True\n",
            "False\n",
            " \n",
            "OR:\n",
            "True\n",
            "True\n",
            "False\n",
            " \n",
            "not\n"
          ]
        },
        {
          "data": {
            "text/plain": [
              "True"
            ]
          },
          "execution_count": 11,
          "metadata": {},
          "output_type": "execute_result"
        }
      ],
      "source": [
        "a = True\n",
        "b = False\n",
        "\n",
        "print (\"AND:\")\n",
        "print (a and b)\n",
        "print (a and a)\n",
        "print (b and b)\n",
        "\n",
        "print (\" \")\n",
        "\n",
        "print (\"OR:\")\n",
        "print (a or b)\n",
        "print (a or a)\n",
        "print (b or b)\n",
        "\n",
        "print (\" \")\n",
        "\n",
        "print (\"not\")\n",
        "\n",
        "not a\n",
        "not b"
      ]
    },
    {
      "cell_type": "markdown",
      "metadata": {
        "id": "HDjX7V9mPTNP"
      },
      "source": [
        "## inputs\n",
        "\n",
        "son estradas de usuario por consola"
      ]
    },
    {
      "cell_type": "code",
      "execution_count": null,
      "metadata": {
        "colab": {
          "base_uri": "https://localhost:8080/"
        },
        "id": "mePgERm1PoMW",
        "outputId": "2ce686b3-14dc-4d8a-eb42-ad142c8830c9"
      },
      "outputs": [
        {
          "name": "stdout",
          "output_type": "stream",
          "text": [
            "nombre:juan pablo\n",
            "apellido:gonzalez\n",
            "Hola juan pablo gonzalez bienvenido\n"
          ]
        }
      ],
      "source": [
        "firstname = input (\"nombre:\")\n",
        "lastname = input (\"apellido:\")\n",
        "fullname = firstname + \" \" + lastname\n",
        "\n",
        "print (\"Hola\", fullname, \"bienvenido\")"
      ]
    },
    {
      "cell_type": "markdown",
      "metadata": {
        "id": "FALdReyt1vkl"
      },
      "source": [
        "Aunque los inputs solo son salidas de texto y aunque pongas un numero no tendra un valor numerico"
      ]
    },
    {
      "cell_type": "code",
      "execution_count": null,
      "metadata": {
        "colab": {
          "base_uri": "https://localhost:8080/"
        },
        "id": "o_B-hw2B9XNP",
        "outputId": "8cde305f-3e9e-49e7-f987-b6078c09e37c"
      },
      "outputs": [
        {
          "name": "stdout",
          "output_type": "stream",
          "text": [
            "ingrese el primer numero3\n",
            "ingrese el segundo numero5\n",
            "la suma es: 35\n"
          ]
        }
      ],
      "source": [
        "num_1 = input (\"ingrese el primer numero:\")\n",
        "num_2 = input (\"ingrese el segundo numero:\")\n",
        "resultado = num_1 + num_2\n",
        "\n",
        "print (\"la suma es:\", resultado)"
      ]
    },
    {
      "cell_type": "markdown",
      "metadata": {
        "id": "bRWOsLrR-03V"
      },
      "source": [
        "para solucionar esto se escribe el input dentro de un valor entero\n",
        "\n",
        "osea\n",
        "\n",
        "```\n",
        "int (input (\"ingrese un numero\"))\n",
        "```\n",
        "o float si la variable no es entera\n",
        "\n",
        "```\n",
        "float (input (\"ingrese un numero\"))\n",
        "```\n"
      ]
    },
    {
      "cell_type": "code",
      "execution_count": null,
      "metadata": {
        "colab": {
          "base_uri": "https://localhost:8080/"
        },
        "id": "_PVRjOQo_aER",
        "outputId": "bee63c28-7a7a-4630-9cf7-5f8b7013e725"
      },
      "outputs": [
        {
          "name": "stdout",
          "output_type": "stream",
          "text": [
            "ingrese el primer numero3\n",
            "ingrese el segundo numero5\n",
            "la suma es: 8\n"
          ]
        }
      ],
      "source": [
        "num_1 = int (input (\"ingrese el primer numero:\"))\n",
        "num_2 = int (input (\"ingrese el segundo numero:\"))\n",
        "resultado = num_1 + num_2\n",
        "\n",
        "print (\"la suma es:\", resultado)"
      ]
    },
    {
      "cell_type": "markdown",
      "metadata": {
        "id": "8yPWJG45xMZj"
      },
      "source": [
        "##Condicionales\n",
        "\n",
        "son lineas de codigo que se  solo si se cumple una condici"
      ]
    },
    {
      "cell_type": "markdown",
      "metadata": {
        "id": "SAOubWbc0OrM"
      },
      "source": [
        "### If\n"
      ]
    },
    {
      "cell_type": "markdown",
      "metadata": {
        "id": "3a17jH-iz3ks"
      },
      "source": [
        "### While\n",
        "es una condicional donde se ejecuta solamente si se cumple una condicion especifica\n",
        "\n",
        "se recomienda no poner condicionales extrictos\n",
        "\n",
        "ejemplo: x cosa se hace si x valor es igual a cinco\n",
        "\n"
      ]
    },
    {
      "cell_type": "markdown",
      "metadata": {
        "id": "84O3Oh5g3lb8"
      },
      "source": [
        "## repetitivos"
      ]
    },
    {
      "cell_type": "markdown",
      "metadata": {
        "id": "_CfuuMQt3yeP"
      },
      "source": [
        "### while (como repetitivo)"
      ]
    },
    {
      "cell_type": "markdown",
      "metadata": {
        "id": "l8SMJ7JX0Tpn"
      },
      "source": [
        "### for\n",
        "\n",
        "es una estructura repetitiva definida, en pocas palabras, repites un numero de veces concreto la accion\n",
        "\n",
        "para saber si lo tiene que usar preguntate ¿sabes cuantas veces tienes que repetir la accion?\n",
        "\n",
        "si es asi establese desde donde inicias y hasta donde terminas\n",
        "si no es asi utilisa while"
      ]
    },
    {
      "cell_type": "markdown",
      "metadata": {
        "id": "eEiviJG_1uY9"
      },
      "source": [
        "### repeat"
      ]
    },
    {
      "cell_type": "markdown",
      "metadata": {
        "id": "_prRCd1Nz1zm"
      },
      "source": [
        "## ejercisio"
      ]
    },
    {
      "cell_type": "markdown",
      "metadata": {
        "id": "BwhzBt-j7Eyt"
      },
      "source": [
        "### Ejercisio 1\n",
        "\n",
        "hacer una calculadora donde tu ingresas un numero indefinido de numeros y al final aparesca la suma de todos ellos\n",
        "\n",
        "```\n",
        "program calculadora_de_sumas\n",
        "start\n",
        "  declare\n",
        "\n",
        "stop\n",
        "\n",
        "```"
      ]
    },
    {
      "cell_type": "code",
      "execution_count": null,
      "metadata": {
        "id": "DzYMuaq43i04"
      },
      "outputs": [],
      "source": []
    },
    {
      "cell_type": "markdown",
      "metadata": {
        "id": "h8ebZhUF7rZI"
      },
      "source": [
        "hacer un algoritmo donde se halle el promedio ponderado de una serie de notas\n",
        "\n",
        "seudo codigo\n",
        "\n",
        "```\n",
        "program promedio_ponderado\n",
        "strat\n",
        "  Declare\n",
        "  Declare real N, nota, peso, promedio, sum_nota, sum_peso\n",
        "  Display \"ingrese el numero de notas\"\n",
        "  input N\n",
        "  for i = 0 to N\n",
        "    Display\n",
        "  end for\n",
        "\n",
        "stop\n",
        "\n",
        "```"
      ]
    },
    {
      "cell_type": "code",
      "execution_count": null,
      "metadata": {
        "id": "7-Vo1kBq78ep"
      },
      "outputs": [],
      "source": []
    }
  ],
  "metadata": {
    "colab": {
      "collapsed_sections": [
        "kBiJ8TJ27upH",
        "azjza1QxG0OF",
        "HDjX7V9mPTNP",
        "8yPWJG45xMZj",
        "84O3Oh5g3lb8"
      ],
      "provenance": [],
      "toc_visible": true,
      "include_colab_link": true
    },
    "kernelspec": {
      "display_name": "Python 3",
      "name": "python3"
    }
  },
  "nbformat": 4,
  "nbformat_minor": 0
}