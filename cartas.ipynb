{
  "nbformat": 4,
  "nbformat_minor": 0,
  "metadata": {
    "colab": {
      "provenance": [],
      "authorship_tag": "ABX9TyNQz+XfCh+RhCIvFNqJXc8+",
      "include_colab_link": true
    },
    "kernelspec": {
      "name": "python3",
      "display_name": "Python 3"
    },
    "language_info": {
      "name": "python"
    }
  },
  "cells": [
    {
      "cell_type": "markdown",
      "metadata": {
        "id": "view-in-github",
        "colab_type": "text"
      },
      "source": [
        "<a href=\"https://colab.research.google.com/github/juango15/Classroom-notes/blob/main/cartas.ipynb\" target=\"_parent\"><img src=\"https://colab.research.google.com/assets/colab-badge.svg\" alt=\"Open In Colab\"/></a>"
      ]
    },
    {
      "cell_type": "code",
      "execution_count": null,
      "metadata": {
        "id": "jfCRYxgocPRo"
      },
      "outputs": [],
      "source": [
        "back = [for i in range(2): |w|]"
      ]
    },
    {
      "cell_type": "code",
      "source": [
        "import random\n",
        "import time\n",
        "from IPython.display import clear_output\n",
        "\n",
        "rows = 2\n",
        "columns = 3\n",
        "back = [[\"|W|\" for i in range(columns)] for i in range(rows)]\n",
        "\n",
        "def show_cards(cards):\n",
        "  for i in range(len(cards)):\n",
        "    for j in range(len(cards[i])):\n",
        "      print(cards[i][j], end=\" \")\n",
        "    print(\"\\n\")\n",
        "\n",
        "options = ['J', 'J', 'Q', 'Q', 'K', 'K']\n",
        "game_cards = [[\"\" for i in range(columns)] for i in range (rows)]\n",
        "\n",
        "for i in range(len(game_cards)):\n",
        "  for j in range(len(game_cards[i])):\n",
        "    random_card = random.choice(options)\n",
        "    game_cards[i][j] = '|' + random_card + '|'\n",
        "    options.remove(random_card)\n",
        "\n",
        "t = 2\n",
        "show_cards(back)\n",
        "time.sleep(t)\n",
        "clear_output()\n",
        "show_cards(game_cards)\n",
        "time.sleep(t)\n",
        "clear_output()\n",
        "show_cards(back)\n",
        "\n",
        "row = int(input(\"Indique la fila: \"))\n",
        "column = int(input(\"Indique la columna: \"))\n",
        "\n",
        "temp_cards = back\n",
        "temp_cards[row][column] = game_cards[row][column]\n",
        "clear_output()\n",
        "show_cards(temp_cards)\n",
        "\n"
      ],
      "metadata": {
        "id": "Mz7GGe4chF7U"
      },
      "execution_count": null,
      "outputs": []
    },
    {
      "cell_type": "code",
      "source": [
        "import random\n",
        "import time\n",
        "from IPython.display import clear_output\n",
        "\n",
        "rows = 2\n",
        "columns = 3\n",
        "cards_back = [[\"|_|\" for i in range(columns)] for i in range(rows)]\n",
        "options = ['J', 'J', 'Q', 'Q', 'K', 'K']\n",
        "game_cards = [[\"\" for i in range(columns)] for i in range (rows)]\n",
        "\n",
        "for i in range(len(game_cards)):\n",
        "  for j in range(len(game_cards[i])):\n",
        "    random_card = random.choice(options)\n",
        "    game_cards[i][j] = '|' + random_card + '|'\n",
        "    options.remove(random_card)\n",
        "\n",
        "\n",
        "def show_cards(cards):\n",
        "  for i in range(len(cards)):\n",
        "    for j in range(len(cards[i])):\n",
        "      print(cards[i][j], end=\" \")\n",
        "    print(\"\\n\")\n",
        "\n",
        "t = 2\n",
        "show_cards(cards_back)\n",
        "time.sleep(t)\n",
        "clear_output()\n",
        "show_cards(game_cards)\n",
        "time.sleep(t)\n",
        "clear_output()\n",
        "show_cards(cards_back)\n",
        "\n",
        "row = int(input(\"Indique la fila: \"))\n",
        "column = int(input(\"Indique la columna: \"))\n",
        "\n",
        "temp_cards = cards_back\n",
        "temp_cards[row][column] = game_cards[row][column]\n",
        "clear_output()\n",
        "show_cards(temp_cards)\n",
        "\n",
        "row = int(input(\"Indique la fila: \"))\n",
        "column = int(input(\"Indique la columna: \"))\n",
        "\n",
        "temp_cards = cards_back\n",
        "temp_cards[row][column] = game_cards[row][column]\n",
        "clear_output()\n",
        "show_cards(temp_cards)"
      ],
      "metadata": {
        "id": "4lGIhS7xlOMw"
      },
      "execution_count": null,
      "outputs": []
    },
    {
      "cell_type": "code",
      "source": [
        "import random\n",
        "import time\n",
        "from IPython.display import clear_output\n",
        "\n",
        "rows = 2\n",
        "columns = 3\n",
        "cards_back = [[\"|_|\" for _ in range(columns)] for _ in range(rows)]\n",
        "options = ['J', 'J', 'Q', 'Q', 'K', 'K']\n",
        "game_cards = [[\"\" for _ in range(columns)] for _ in range(rows)]\n",
        "\n",
        "# Asignar cartas aleatorias a game_cards\n",
        "for i in range(len(game_cards)):\n",
        "    for j in range(len(game_cards[i])):\n",
        "        random_card = random.choice(options)\n",
        "        game_cards[i][j] = '|' + random_card + '|'\n",
        "        options.remove(random_card)\n",
        "\n",
        "# Función para mostrar las cartas\n",
        "def show_cards(cards):\n",
        "    for row in cards:\n",
        "        print(\" \".join(row))\n",
        "        print()\n",
        "\n",
        "# Mostrar todas las cartas al principio para memorizar\n",
        "t=2\n",
        "show_cards(game_cards)\n",
        "time.sleep(t)\n",
        "clear_output(wait=True)\n",
        "\n",
        "# Juego principal\n",
        "while '|' + '_' + '|' in str(cards_back):\n",
        "    show_cards(cards_back)\n",
        "    time.sleep(t)\n",
        "    clear_output(wait=True)\n",
        "\n",
        "    # Primera elección\n",
        "    row_1 = int(input(\"Indique la fila para la primera carta: \"))\n",
        "    column_1 = int(input(\"Indique la columna para la primera carta: \"))\n",
        "    cards_back[row_1][column_1] = game_cards[row_1][column_1]\n",
        "    show_cards(cards_back)\n",
        "    time.sleep(t)\n",
        "    clear_output(wait=True)\n",
        "\n",
        "    # Segunda elección\n",
        "    row_2 = int(input(\"Indique la fila para la segunda carta: \"))\n",
        "    column_2 = int(input(\"Indique la columna para la segunda carta: \"))\n",
        "    cards_back[row_2][column_2] = game_cards[row_2][column_2]\n",
        "    show_cards(cards_back)\n",
        "    time.sleep(t)\n",
        "\n",
        "    # Comprobar si las cartas coinciden\n",
        "    if game_cards[row_1][column_1] == game_cards[row_2][column_2]:\n",
        "        print(\"¡Encontraste un par!\")\n",
        "        cards_back[row_1][column_1] = \"   \"\n",
        "        cards_back[row_2][column_2] = \"   \"\n",
        "    else:\n",
        "        print(\"Intenta de nuevo.\")\n",
        "        cards_back[row_1][column_1] = \"|_|\"\n",
        "        cards_back[row_2][column_2] = \"|_|\"\n",
        "\n",
        "    time.sleep(t)\n",
        "    clear_output(wait=True)\n",
        "\n",
        "print(\"¡Felicidades! Has encontrado todos los pares.\")"
      ],
      "metadata": {
        "id": "DIZRQ76qDzvb",
        "outputId": "cb63f468-2aad-4866-d214-cdce0a75cb90",
        "colab": {
          "base_uri": "https://localhost:8080/"
        }
      },
      "execution_count": null,
      "outputs": [
        {
          "output_type": "stream",
          "name": "stdout",
          "text": [
            "|_| |_| |_|\n",
            "\n",
            "|_| |_| |_|\n",
            "\n"
          ]
        }
      ]
    },
    {
      "cell_type": "code",
      "source": [],
      "metadata": {
        "id": "wNDohxkHFI8o"
      },
      "execution_count": null,
      "outputs": []
    }
  ]
}